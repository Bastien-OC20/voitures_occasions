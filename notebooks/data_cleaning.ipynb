{
 "cells": [
  {
   "cell_type": "code",
   "execution_count": 27,
   "metadata": {},
   "outputs": [
    {
     "name": "stdout",
     "output_type": "stream",
     "text": [
      "        Marque/Modèle  Année Kilométrage      Etat      Prix  \\\n",
      "0   Mercedes Classe A   2023    5 245 km  Occasion  35 999 €   \n",
      "1         Peugeot 208   2023       20 km  Occasion  26 999 €   \n",
      "2          Opel Mokka   2023    1 675 km  Occasion  26 799 €   \n",
      "3  Toyota YARIS CROSS   2022    5 810 km  Occasion  24 999 €   \n",
      "4        Peugeot 2008   2024    8 702 km  Occasion  23 699 €   \n",
      "\n",
      "  Type de Carburant Transmission  \n",
      "0            Diesel        Auto.  \n",
      "1        Électrique        Auto.  \n",
      "2        Électrique        Auto.  \n",
      "3           Hybride        Auto.  \n",
      "4           Essence        Auto.  \n"
     ]
    }
   ],
   "source": [
    "import pandas as pd\n",
    "df = pd.read_csv('voitures_aramisauto.csv')\n",
    "print(df.head())"
   ]
  },
  {
   "cell_type": "code",
   "execution_count": 28,
   "metadata": {},
   "outputs": [
    {
     "name": "stdout",
     "output_type": "stream",
     "text": [
      "Marque/Modèle        object\n",
      "Année                 int64\n",
      "Kilométrage          object\n",
      "Etat                 object\n",
      "Prix                 object\n",
      "Type de Carburant    object\n",
      "Transmission         object\n",
      "dtype: object\n"
     ]
    }
   ],
   "source": [
    "print(df.dtypes)"
   ]
  },
  {
   "cell_type": "code",
   "execution_count": 29,
   "metadata": {},
   "outputs": [
    {
     "name": "stdout",
     "output_type": "stream",
     "text": [
      "             Année\n",
      "count  2300.000000\n",
      "mean   2020.820435\n",
      "std       2.218672\n",
      "min    2012.000000\n",
      "25%    2019.000000\n",
      "50%    2021.000000\n",
      "75%    2023.000000\n",
      "max    2024.000000\n"
     ]
    }
   ],
   "source": [
    "print(df.describe())"
   ]
  },
  {
   "cell_type": "code",
   "execution_count": 30,
   "metadata": {},
   "outputs": [
    {
     "name": "stdout",
     "output_type": "stream",
     "text": [
      "Marque/Modèle        0\n",
      "Année                0\n",
      "Kilométrage          0\n",
      "Etat                 0\n",
      "Prix                 0\n",
      "Type de Carburant    0\n",
      "Transmission         0\n",
      "dtype: int64\n"
     ]
    }
   ],
   "source": [
    "print(df.isnull().sum())"
   ]
  },
  {
   "cell_type": "code",
   "execution_count": 31,
   "metadata": {},
   "outputs": [],
   "source": [
    "df['Marque/Modèle'] = df['Marque/Modèle'].str.strip()"
   ]
  },
  {
   "cell_type": "code",
   "execution_count": 32,
   "metadata": {},
   "outputs": [],
   "source": [
    "df[[\"Marque\", \"Modèle\"]] = df[\"Marque/Modèle\"].str.split(n=1, expand=True)"
   ]
  },
  {
   "cell_type": "code",
   "execution_count": 33,
   "metadata": {},
   "outputs": [],
   "source": [
    "df['Année'] = pd.to_numeric(df['Année'], errors='coerce')\n",
    "df['Kilométrage'] = df['Kilométrage'].str.replace(' km', '').str.replace(' ', '').astype(float)"
   ]
  },
  {
   "cell_type": "code",
   "execution_count": 34,
   "metadata": {},
   "outputs": [],
   "source": [
    "df['Prix'] = df['Prix'].str.replace(' €', '').str.replace(' ', '').astype(float)"
   ]
  },
  {
   "cell_type": "code",
   "execution_count": 35,
   "metadata": {},
   "outputs": [],
   "source": [
    "df.drop_duplicates(inplace=True)"
   ]
  },
  {
   "cell_type": "code",
   "execution_count": 37,
   "metadata": {},
   "outputs": [],
   "source": [
    "df = df[[\"Marque\", \"Modèle\", \"Année\", \"Kilométrage\", \"Etat\", \"Prix\", \"Type de Carburant\", \"Transmission\"]]"
   ]
  },
  {
   "cell_type": "code",
   "execution_count": 38,
   "metadata": {},
   "outputs": [],
   "source": [
    "df.to_csv('voitures_aramisauto_nettoye.csv', index=False)"
   ]
  }
 ],
 "metadata": {
  "kernelspec": {
   "display_name": "base",
   "language": "python",
   "name": "python3"
  },
  "language_info": {
   "codemirror_mode": {
    "name": "ipython",
    "version": 3
   },
   "file_extension": ".py",
   "mimetype": "text/x-python",
   "name": "python",
   "nbconvert_exporter": "python",
   "pygments_lexer": "ipython3",
   "version": "3.12.2"
  }
 },
 "nbformat": 4,
 "nbformat_minor": 2
}
