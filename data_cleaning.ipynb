{
 "cells": [
  {
   "cell_type": "code",
   "execution_count": 1,
   "metadata": {},
   "outputs": [
    {
     "name": "stdout",
     "output_type": "stream",
     "text": [
      "        Marque/Modèle  Année Kilométrage      Etat      Prix\n",
      "0   Mercedes Classe A   2023    5 245 km  Occasion  36 499 €\n",
      "1         Peugeot 208   2023       20 km  Occasion  26 999 €\n",
      "2          Opel Mokka   2023    1 675 km  Occasion  26 799 €\n",
      "3  Toyota YARIS CROSS   2022    5 810 km  Occasion  24 999 €\n",
      "4        Peugeot 3008   2019   37 630 km  Occasion  16 499 €\n"
     ]
    }
   ],
   "source": [
    "import pandas as pd\n",
    "df = pd.read_csv('voitures_aramisauto.csv')\n",
    "print(df.head())"
   ]
  },
  {
   "cell_type": "code",
   "execution_count": 2,
   "metadata": {},
   "outputs": [
    {
     "name": "stdout",
     "output_type": "stream",
     "text": [
      "Marque/Modèle    object\n",
      "Année             int64\n",
      "Kilométrage      object\n",
      "Etat             object\n",
      "Prix             object\n",
      "dtype: object\n"
     ]
    }
   ],
   "source": [
    "print(df.dtypes)"
   ]
  },
  {
   "cell_type": "code",
   "execution_count": 3,
   "metadata": {},
   "outputs": [
    {
     "name": "stdout",
     "output_type": "stream",
     "text": [
      "             Année\n",
      "count  2300.000000\n",
      "mean   2020.715217\n",
      "std       2.258469\n",
      "min    2012.000000\n",
      "25%    2019.000000\n",
      "50%    2021.000000\n",
      "75%    2023.000000\n",
      "max    2024.000000\n"
     ]
    }
   ],
   "source": [
    "print(df.describe())"
   ]
  },
  {
   "cell_type": "code",
   "execution_count": 4,
   "metadata": {},
   "outputs": [
    {
     "name": "stdout",
     "output_type": "stream",
     "text": [
      "Marque/Modèle    0\n",
      "Année            0\n",
      "Kilométrage      0\n",
      "Etat             0\n",
      "Prix             0\n",
      "dtype: int64\n"
     ]
    }
   ],
   "source": [
    "print(df.isnull().sum())"
   ]
  },
  {
   "cell_type": "code",
   "execution_count": 5,
   "metadata": {},
   "outputs": [],
   "source": [
    "df['Marque/Modèle'] = df['Marque/Modèle'].str.strip()"
   ]
  },
  {
   "cell_type": "code",
   "execution_count": 6,
   "metadata": {},
   "outputs": [],
   "source": [
    "df[[\"Marque\", \"Modèle\"]] = df[\"Marque/Modèle\"].str.split(n=1, expand=True)"
   ]
  },
  {
   "cell_type": "code",
   "execution_count": 7,
   "metadata": {},
   "outputs": [],
   "source": [
    "df['Année'] = pd.to_numeric(df['Année'], errors='coerce')\n",
    "df['Kilométrage'] = df['Kilométrage'].str.replace(' km', '').str.replace(' ', '').astype(float)"
   ]
  },
  {
   "cell_type": "code",
   "execution_count": 8,
   "metadata": {},
   "outputs": [],
   "source": [
    "df['Prix'] = df['Prix'].str.replace(' €', '').str.replace(' ', '').astype(float)"
   ]
  },
  {
   "cell_type": "code",
   "execution_count": 9,
   "metadata": {},
   "outputs": [],
   "source": [
    "df.drop_duplicates(inplace=True)"
   ]
  },
  {
   "cell_type": "code",
   "execution_count": 10,
   "metadata": {},
   "outputs": [],
   "source": [
    "df = df[[\"Marque\", \"Modèle\", \"Année\", \"Kilométrage\", \"Etat\", \"Prix\"]]"
   ]
  },
  {
   "cell_type": "code",
   "execution_count": 11,
   "metadata": {},
   "outputs": [],
   "source": [
    "df.to_csv('voitures_aramisauto_nettoye.csv', index=False)"
   ]
  }
 ],
 "metadata": {
  "kernelspec": {
   "display_name": ".venv",
   "language": "python",
   "name": "python3"
  },
  "language_info": {
   "codemirror_mode": {
    "name": "ipython",
    "version": 3
   },
   "file_extension": ".py",
   "mimetype": "text/x-python",
   "name": "python",
   "nbconvert_exporter": "python",
   "pygments_lexer": "ipython3",
   "version": "3.12.4"
  }
 },
 "nbformat": 4,
 "nbformat_minor": 2
}
